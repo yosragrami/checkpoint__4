{
 "cells": [
  {
   "cell_type": "code",
   "execution_count": 12,
   "id": "6f3c98fe-75a9-4750-bf2d-0b4e715409d8",
   "metadata": {},
   "outputs": [],
   "source": [
    "class Point3D:\n",
    "    \n",
    "    def __init__(self, x, y, z):\n",
    "        self.x= x\n",
    "        self.y= y\n",
    "        self.z= z\n",
    "       \n",
    " "
   ]
  },
  {
   "cell_type": "code",
   "execution_count": 13,
   "id": "fdb1cff5-431c-40db-ae24-ac5805a08bcf",
   "metadata": {},
   "outputs": [],
   "source": [
    "num = Point3D (1, 2, 3) \n"
   ]
  },
  {
   "cell_type": "code",
   "execution_count": 14,
   "id": "757e11f2-e2a5-47d7-85c3-777099ab36ad",
   "metadata": {},
   "outputs": [
    {
     "name": "stdout",
     "output_type": "stream",
     "text": [
      "(1,2,3)\n"
     ]
    }
   ],
   "source": [
    "print (\"({},{},{})\".format(num.x,num.y,num.z))"
   ]
  },
  {
   "cell_type": "code",
   "execution_count": 54,
   "id": "5464afab-0f1d-4de3-8049-3e5651c8f696",
   "metadata": {},
   "outputs": [],
   "source": [
    "class Rectangle:\n",
    "    def __init__(self, length, width):\n",
    "        \n",
    "        self.length=length\n",
    "        self.width=width\n",
    "        \n",
    "    def area (self):\n",
    "        return ( self.length*self.width)\n",
    "    def perimeter(self):\n",
    "        return ((self.length*2)+(self.width*2))"
   ]
  },
  {
   "cell_type": "code",
   "execution_count": 55,
   "id": "542c6db1-dc75-47ad-9117-63e7bc45d198",
   "metadata": {},
   "outputs": [],
   "source": [
    "my_rectangle=Rectangle(3,4)"
   ]
  },
  {
   "cell_type": "code",
   "execution_count": 57,
   "id": "d850cef3-22f5-435a-8915-cf639b0edf6a",
   "metadata": {},
   "outputs": [
    {
     "data": {
      "text/plain": [
       "12"
      ]
     },
     "execution_count": 57,
     "metadata": {},
     "output_type": "execute_result"
    }
   ],
   "source": [
    "my_rectangle.area()\n"
   ]
  },
  {
   "cell_type": "code",
   "execution_count": 58,
   "id": "e04f16cd-1b9d-4702-8659-5f2bb1ea2658",
   "metadata": {},
   "outputs": [
    {
     "data": {
      "text/plain": [
       "14"
      ]
     },
     "execution_count": 58,
     "metadata": {},
     "output_type": "execute_result"
    }
   ],
   "source": [
    "my_rectangle.perimeter()"
   ]
  },
  {
   "cell_type": "code",
   "execution_count": 84,
   "id": "05da846c-b934-4e24-bc21-a39868a1c3b9",
   "metadata": {},
   "outputs": [],
   "source": [
    "import math\n",
    "class cercle:\n",
    "    def __init__(self, o, r):\n",
    "        self.o= o\n",
    "        self.r= r\n",
    "        \n",
    "    def area (self):\n",
    "        return ( math.pi*self.r**2)\n",
    "    def perimeter (self):\n",
    "        return ( math.pi*self.r*2)\n",
    "    def point_A (self,x,y):\n",
    "        self.x= x\n",
    "        self.y= y\n",
    "        if abs(self.x-self.o)<= self.r and abs(self.y-self.o)<= self.r:\n",
    "            return True\n",
    "        if abs(self.x-self.o)>= self.r and abs(self.y-self.o)>= self.r:\n",
    "            return False "
   ]
  },
  {
   "cell_type": "code",
   "execution_count": 85,
   "id": "16117644-b31d-4934-bdc5-2996c0d968fe",
   "metadata": {},
   "outputs": [],
   "source": [
    "my_cercle=cercle(4,3)\n",
    "\n"
   ]
  },
  {
   "cell_type": "code",
   "execution_count": 69,
   "id": "c1e121c8-5af4-45ca-80ea-9bb11fc8234d",
   "metadata": {},
   "outputs": [
    {
     "data": {
      "text/plain": [
       "28.274333882308138"
      ]
     },
     "execution_count": 69,
     "metadata": {},
     "output_type": "execute_result"
    }
   ],
   "source": [
    "my_cercle.area()"
   ]
  },
  {
   "cell_type": "code",
   "execution_count": 70,
   "id": "1b3b6ffa-26b4-4646-8acc-b7df8d876ef3",
   "metadata": {},
   "outputs": [
    {
     "data": {
      "text/plain": [
       "18.84955592153876"
      ]
     },
     "execution_count": 70,
     "metadata": {},
     "output_type": "execute_result"
    }
   ],
   "source": [
    "my_cercle.perimeter()"
   ]
  },
  {
   "cell_type": "code",
   "execution_count": 86,
   "id": "21ee08c6-5398-4f95-a690-a982eae9d182",
   "metadata": {},
   "outputs": [
    {
     "data": {
      "text/plain": [
       "True"
      ]
     },
     "execution_count": 86,
     "metadata": {},
     "output_type": "execute_result"
    }
   ],
   "source": [
    "my_cercle.point_A(5,2)"
   ]
  },
  {
   "cell_type": "code",
   "execution_count": 88,
   "id": "2842cd28-cb79-488b-bcb4-2e05d99a8fc4",
   "metadata": {},
   "outputs": [
    {
     "data": {
      "text/plain": [
       "False"
      ]
     },
     "execution_count": 88,
     "metadata": {},
     "output_type": "execute_result"
    }
   ],
   "source": [
    "my_cercle.point_A(9,12)"
   ]
  },
  {
   "cell_type": "code",
   "execution_count": 101,
   "id": "a0619795-82fa-4d57-b658-b116f45482fa",
   "metadata": {},
   "outputs": [],
   "source": [
    "class bank :\n",
    "    def __init__(self,balance):\n",
    "        self.balance=balance \n",
    "    def dep_amount(self, deposit):\n",
    "        \n",
    "        self.deposit=deposit\n",
    "        return (self.balance+self.deposit)\n",
    "    def draw_amount (self, withdraw):\n",
    "        self.withdraw=withdraw \n",
    "        return (self.balance-self.withdraw)\n",
    "        \n",
    "        \n",
    "    \n",
    "    "
   ]
  },
  {
   "cell_type": "code",
   "execution_count": 102,
   "id": "4c737480-01fa-4d2e-b6e6-a568a50bd050",
   "metadata": {},
   "outputs": [],
   "source": [
    "initial_amount=bank(980000)\n"
   ]
  },
  {
   "cell_type": "code",
   "execution_count": 103,
   "id": "8be9ae15-d01f-4219-a6e6-af4184096164",
   "metadata": {},
   "outputs": [
    {
     "data": {
      "text/plain": [
       "1110000"
      ]
     },
     "execution_count": 103,
     "metadata": {},
     "output_type": "execute_result"
    }
   ],
   "source": [
    "initial_amount.dep_amount(130000)"
   ]
  },
  {
   "cell_type": "code",
   "execution_count": 104,
   "id": "56acb361-ce5e-494d-9911-f989462a0aba",
   "metadata": {},
   "outputs": [
    {
     "data": {
      "text/plain": [
       "605000"
      ]
     },
     "execution_count": 104,
     "metadata": {},
     "output_type": "execute_result"
    }
   ],
   "source": [
    "initial_amount.draw_amount(375000)"
   ]
  },
  {
   "cell_type": "code",
   "execution_count": null,
   "id": "f8b5e331-dc03-47d2-93d2-3ecffe3981ba",
   "metadata": {},
   "outputs": [],
   "source": []
  }
 ],
 "metadata": {
  "kernelspec": {
   "display_name": "Python 3 (ipykernel)",
   "language": "python",
   "name": "python3"
  },
  "language_info": {
   "codemirror_mode": {
    "name": "ipython",
    "version": 3
   },
   "file_extension": ".py",
   "mimetype": "text/x-python",
   "name": "python",
   "nbconvert_exporter": "python",
   "pygments_lexer": "ipython3",
   "version": "3.9.7"
  }
 },
 "nbformat": 4,
 "nbformat_minor": 5
}
